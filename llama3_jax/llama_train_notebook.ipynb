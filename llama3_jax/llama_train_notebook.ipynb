{
 "cells": [
  {
   "cell_type": "code",
   "execution_count": 1,
   "metadata": {},
   "outputs": [
    {
     "name": "stdout",
     "output_type": "stream",
     "text": [
      "felafax package imported successfully\n"
     ]
    }
   ],
   "source": [
    "import importlib\n",
    "import os\n",
    "import sys\n",
    "\n",
    "# Add the current directory and its parent to the Python path.\n",
    "# This allows importing modules from these directories.\n",
    "sys.path.append(os.path.abspath(os.getcwd()))\n",
    "sys.path.append(os.path.abspath(os.path.dirname(os.getcwd())))\n",
    "\n",
    "try:\n",
    "    import llama3_jax\n",
    "    print(\"felafax package imported successfully\")\n",
    "except ImportError as e:\n",
    "    print(f\"Error importing llama3_jax: {e}\")"
   ]
  },
  {
   "cell_type": "code",
   "execution_count": 2,
   "metadata": {},
   "outputs": [],
   "source": [
    "from llama3_jax.trainer_engine import setup\n",
    "\n",
    "setup.setup_environment(base_dir=\"/mnt/persistent-disk/\")"
   ]
  },
  {
   "cell_type": "code",
   "execution_count": 10,
   "metadata": {},
   "outputs": [
    {
     "name": "stdout",
     "output_type": "stream",
     "text": [
      "Reloaded all felafax modules.\n"
     ]
    }
   ],
   "source": [
    "from llama3_jax import llama_config\n",
    "from llama3_jax.trainer_engine import (automodel_lib, checkpoint_lib,\n",
    "                                       convert_lib, jax_utils, trainer_lib,\n",
    "                                       utils)\n",
    "\n",
    "setup.reload_modules(\"llama3_jax\")"
   ]
  },
  {
   "cell_type": "code",
   "execution_count": 11,
   "metadata": {},
   "outputs": [],
   "source": [
    "from typing import Any, Dict, List, Mapping, Optional, Sequence, Tuple, Union\n",
    "\n",
    "import chex\n",
    "import jax\n",
    "import jax.numpy as jnp\n",
    "import optax\n",
    "import torch\n",
    "from datasets import load_dataset\n",
    "from transformers import default_data_collator\n",
    "from huggingface_hub import snapshot_download\n",
    "import shutil\n",
    "from datetime import datetime\n",
    "import gzip"
   ]
  },
  {
   "cell_type": "code",
   "execution_count": 12,
   "metadata": {},
   "outputs": [],
   "source": [
    "# Select a supported model from above list to use!\n",
    "MODEL_NAME = \"colab-llama-3.1-8B-Instruct-JAX\""
   ]
  },
  {
   "cell_type": "code",
   "execution_count": 13,
   "metadata": {},
   "outputs": [],
   "source": [
    "# Constants for paths\n",
    "FELAFAX_DIR = \"/mnt/persistent-disk\" # os.path.dirname(os.path.dirname(llama3_jax.__file__))\n",
    "\n",
    "EXPORT_DIR = os.path.join(FELAFAX_DIR, \"export\")\n",
    "HF_EXPORT_DIR = os.path.join(FELAFAX_DIR, \"hf_export\")\n",
    "\n",
    "current_datetime = datetime.now().strftime(\"%Y%m%d_%H%M%S\")\n",
    "GCS_DIR = f\"/home/felafax-storage/checkpoints/{MODEL_NAME}/{current_datetime}/\"\n",
    "\n",
    "# Ensure directories exist\n",
    "utils.makedirs(EXPORT_DIR, exist_ok=True)\n",
    "utils.makedirs(HF_EXPORT_DIR, exist_ok=True)\n",
    "utils.makedirs(GCS_DIR, exist_ok=True)"
   ]
  },
  {
   "cell_type": "code",
   "execution_count": 14,
   "metadata": {},
   "outputs": [
    {
     "name": "stdout",
     "output_type": "stream",
     "text": [
      "Downloading model colab-llama-3.1-8B-Instruct-JAX...\n"
     ]
    },
    {
     "data": {
      "application/vnd.jupyter.widget-view+json": {
       "model_id": "93add70de31542a89b41fe5b96e429e6",
       "version_major": 2,
       "version_minor": 0
      },
      "text/plain": [
       "Fetching 9 files:   0%|          | 0/9 [00:00<?, ?it/s]"
      ]
     },
     "metadata": {},
     "output_type": "display_data"
    },
    {
     "name": "stdout",
     "output_type": "stream",
     "text": [
      "colab-llama-3.1-8B-Instruct-JAX was downloaded to /mnt/persistent-disk/hf/models--felafax--colab-llama-3.1-8B-Instruct-JAX/snapshots/63234acd3cbc6c72c47054ba0d902969811d833c/llama-3.1-8B-Instruct-JAX.flax.\n"
     ]
    }
   ],
   "source": [
    "model_path, model, model_configurator, tokenizer = (\n",
    "    automodel_lib.AutoJAXModelForCausalLM.from_pretrained(MODEL_NAME))"
   ]
  },
  {
   "cell_type": "markdown",
   "metadata": {},
   "source": [
    "# Dataset pipeline"
   ]
  },
  {
   "cell_type": "code",
   "execution_count": 15,
   "metadata": {},
   "outputs": [],
   "source": [
    "def get_dataset(*, tokenizer, batch_size=1, seq_length=32, max_examples=None):\n",
    "    # Define Alpaca prompt template\n",
    "    alpaca_prompt = \"\"\"Below is an instruction that describes a task, paired with an input that provides further context. Write a response that appropriately completes the request.\n",
    "    \n",
    "    ### Instruction: {}\n",
    "    \n",
    "    ### Input: {}\n",
    "    \n",
    "    ### Response: {}\"\"\"\n",
    "    \n",
    "    EOS_TOKEN = tokenizer.eos_token\n",
    "    \n",
    "    # Defines formatting function.\n",
    "    def _format_prompts(examples):\n",
    "        instructions = examples[\"instruction\"]\n",
    "        inputs = examples[\"input\"]\n",
    "        outputs = examples[\"output\"]\n",
    "        texts = []\n",
    "        for instruction, input, output in zip(instructions, inputs, outputs):\n",
    "            text = alpaca_prompt.format(instruction, input, output) + EOS_TOKEN\n",
    "            texts.append(text)\n",
    "        return {\"text\": texts}\n",
    "\n",
    "    def _tokenize(examples):\n",
    "        tokenized = tokenizer(examples[\"text\"], truncation=True, padding=\"max_length\", max_length=seq_length+1)\n",
    "        return {\n",
    "            'input_tokens': [input_id[:-1] for input_id in tokenized['input_ids']],\n",
    "            'target_tokens': [input_id[1:] for input_id in tokenized['input_ids']],\n",
    "            'loss_masks': [input_id[1:] for input_id in tokenized['attention_mask']]\n",
    "        }\n",
    "\n",
    "    def _custom_collate_fn(batch: List[Dict[str, Any]]) -> Dict[str, jnp.ndarray]:\n",
    "        \"\"\"\n",
    "        Collates batch items and converts PyTorch tensors to JAX arrays.\n",
    "        Applies default_data_collator, then converts tensors to JAX format.\n",
    "        \"\"\"\n",
    "        collated = default_data_collator(batch)\n",
    "        jax_batch = {}\n",
    "        for key, value in collated.items():\n",
    "            jax_batch[key] = jnp.array(value.numpy()) if isinstance(value, torch.Tensor) else value\n",
    "        \n",
    "        return jax_batch\n",
    "\n",
    "    # Load and preprocess the dataset\n",
    "    dataset = load_dataset(\"yahma/alpaca-cleaned\", split=\"train\")\n",
    "    if max_examples:\n",
    "        dataset = dataset.select(range(max_examples))\n",
    "    dataset = dataset.map(_format_prompts, batched=True)\n",
    "\n",
    "    # Create train and test dataset.\n",
    "    ds = dataset.train_test_split(test_size=0.15)\n",
    "    for split in ['train', 'test']:\n",
    "        ds[split] = ds[split].map(_tokenize, batched=True, remove_columns=dataset.column_names)\n",
    "\n",
    "    # Create DataLoaders\n",
    "    dataloader_args = dict(shuffle=True, batch_size=batch_size, collate_fn=_custom_collate_fn)\n",
    "    train_dataloader = torch.utils.data.DataLoader(ds['train'], **dataloader_args)\n",
    "    test_dataloader = torch.utils.data.DataLoader(ds['test'], **dataloader_args)\n",
    "\n",
    "    return train_dataloader, test_dataloader"
   ]
  },
  {
   "cell_type": "code",
   "execution_count": 16,
   "metadata": {},
   "outputs": [
    {
     "data": {
      "application/vnd.jupyter.widget-view+json": {
       "model_id": "f700a615fa8d450ea7db7bbab79ad95f",
       "version_major": 2,
       "version_minor": 0
      },
      "text/plain": [
       "Map:   0%|          | 0/32 [00:00<?, ? examples/s]"
      ]
     },
     "metadata": {},
     "output_type": "display_data"
    },
    {
     "data": {
      "application/vnd.jupyter.widget-view+json": {
       "model_id": "b1f185a38cb545afbe4470a786197dd6",
       "version_major": 2,
       "version_minor": 0
      },
      "text/plain": [
       "Map:   0%|          | 0/27 [00:00<?, ? examples/s]"
      ]
     },
     "metadata": {},
     "output_type": "display_data"
    },
    {
     "data": {
      "application/vnd.jupyter.widget-view+json": {
       "model_id": "ea67c839ef604f2985eb17db77f9b890",
       "version_major": 2,
       "version_minor": 0
      },
      "text/plain": [
       "Map:   0%|          | 0/5 [00:00<?, ? examples/s]"
      ]
     },
     "metadata": {},
     "output_type": "display_data"
    },
    {
     "name": "stdout",
     "output_type": "stream",
     "text": [
      "Input tokens shape: (1, 32)\n",
      "Target mask shape: (1, 32)\n"
     ]
    }
   ],
   "source": [
    "def test_dataset_pipeline(tokenizer):\n",
    "    \"\"\"Print shapes of first batch to verify dataset pipeline.\"\"\"\n",
    "    train_loader, _ = get_dataset(tokenizer=tokenizer, batch_size=1, seq_length=32, max_examples=32)\n",
    "    batch = next(iter(train_loader))\n",
    "    print(\"Input tokens shape:\", batch['input_tokens'].shape)\n",
    "    print(\"Target mask shape:\", batch['target_tokens'].shape)\n",
    "test_dataset_pipeline(tokenizer)"
   ]
  },
  {
   "cell_type": "markdown",
   "metadata": {},
   "source": [
    "# Training loop"
   ]
  },
  {
   "cell_type": "code",
   "execution_count": 17,
   "metadata": {},
   "outputs": [],
   "source": [
    "@chex.dataclass(frozen=True)\n",
    "class TrainingConfig:\n",
    "    learning_rate: float = 1e-4\n",
    "    num_epochs: int = 1\n",
    "    max_steps: int | None = 5\n",
    "    batch_size: int = 32\n",
    "    seq_length: int = 64\n",
    "    dataset_size_limit: int | None = 32\n",
    "    print_every_n_steps: int = 1\n",
    "    eval_every_n_steps: int = 1000\n",
    "    max_eval_steps: int | None = 1\n",
    "\n",
    "\n",
    "training_cfg = TrainingConfig()\n",
    "optimizer = optax.sgd(training_cfg.learning_rate)"
   ]
  },
  {
   "cell_type": "code",
   "execution_count": 18,
   "metadata": {},
   "outputs": [
    {
     "data": {
      "application/vnd.jupyter.widget-view+json": {
       "model_id": "d2eb82160353409398dc1560a75451d8",
       "version_major": 2,
       "version_minor": 0
      },
      "text/plain": [
       "Map:   0%|          | 0/27 [00:00<?, ? examples/s]"
      ]
     },
     "metadata": {},
     "output_type": "display_data"
    },
    {
     "data": {
      "application/vnd.jupyter.widget-view+json": {
       "model_id": "817e00ed19ac4ccea991e0c378487c92",
       "version_major": 2,
       "version_minor": 0
      },
      "text/plain": [
       "Map:   0%|          | 0/5 [00:00<?, ? examples/s]"
      ]
     },
     "metadata": {},
     "output_type": "display_data"
    }
   ],
   "source": [
    "# Prepare dataset\n",
    "train_dataloader, val_dataloader = get_dataset(\n",
    "    tokenizer=tokenizer,\n",
    "    seq_length=training_cfg.seq_length,\n",
    "    max_examples=training_cfg.dataset_size_limit,\n",
    ")"
   ]
  },
  {
   "cell_type": "code",
   "execution_count": 19,
   "metadata": {},
   "outputs": [
    {
     "name": "stdout",
     "output_type": "stream",
     "text": [
      "\n",
      "Training Configuration Summary:\n",
      "Total samples: 27\n",
      "Batch size: 32\n",
      "Number of epochs: 1\n",
      "Steps per epoch: 1\n",
      "Total training steps: 1\n"
     ]
    }
   ],
   "source": [
    "# Calculate and print training steps information\n",
    "total_samples = len(train_dataloader.dataset)\n",
    "batch_size = training_cfg.batch_size\n",
    "steps_per_epoch = (total_samples + batch_size - 1) // batch_size\n",
    "total_steps = steps_per_epoch * training_cfg.num_epochs\n",
    "\n",
    "if training_cfg.max_steps:\n",
    "    total_steps = min(total_steps, training_cfg.max_steps)\n",
    "\n",
    "print(\"\\nTraining Configuration Summary:\")\n",
    "print(f\"Total samples: {total_samples}\")\n",
    "print(f\"Batch size: {batch_size}\")\n",
    "print(f\"Number of epochs: {training_cfg.num_epochs}\")\n",
    "print(f\"Steps per epoch: {steps_per_epoch}\")\n",
    "print(f\"Total training steps: {total_steps}\")\n",
    "if training_cfg.max_steps and total_steps == training_cfg.max_steps:\n",
    "    print(\n",
    "        f\"*Note*: Total steps limited by max_steps setting ({training_cfg.max_steps})\"\n",
    "    )"
   ]
  },
  {
   "cell_type": "code",
   "execution_count": 20,
   "metadata": {
    "scrolled": true
   },
   "outputs": [
    {
     "name": "stdout",
     "output_type": "stream",
     "text": [
      "Loading causal language model...\n"
     ]
    }
   ],
   "source": [
    "trainer = trainer_lib.CausalLMTrainer(\n",
    "    model=model,\n",
    "    model_ckpt_path=model_path,\n",
    "    model_configurator=model_configurator,\n",
    "    optimizer=optimizer,\n",
    "    training_config=training_cfg,\n",
    "    mesh=jax_utils.MESH, \n",
    ")"
   ]
  },
  {
   "cell_type": "code",
   "execution_count": 21,
   "metadata": {},
   "outputs": [
    {
     "name": "stdout",
     "output_type": "stream",
     "text": [
      "Starting epoch 0 of training...\n",
      "Epoch 0, Step 0, Train Loss: 2.9847, Accuracy: 0.4062\n",
      "Eval Step 0, Loss: 2.2406, Accuracy: 0.5469\n",
      "Evaluation complete. Average Loss: 2.2406, Average Accuracy: 0.5469\n",
      "Epoch 0, Step 0, Eval Loss: 2.2406, Accuracy: 0.5469\n",
      "Epoch 0, Step 1, Train Loss: 2.8263, Accuracy: 0.4219\n",
      "Epoch 0, Step 2, Train Loss: 2.6258, Accuracy: 0.4375\n",
      "Epoch 0, Step 3, Train Loss: 2.1049, Accuracy: 0.5781\n",
      "Epoch 0, Step 4, Train Loss: 1.8096, Accuracy: 0.5781\n",
      "Epoch 0, Step 5, Train Loss: 1.6961, Accuracy: 0.6094\n"
     ]
    }
   ],
   "source": [
    "state = trainer.train(train_dataloader, val_dataloader, run_jitted=True)"
   ]
  },
  {
   "cell_type": "code",
   "execution_count": 22,
   "metadata": {},
   "outputs": [
    {
     "name": "stdout",
     "output_type": "stream",
     "text": [
      "Saving checkpoint to /mnt/persistent-disk/export/colab-llama-3.1-8B-Instruct-JAX...\n",
      "Checkpoint saved to /mnt/persistent-disk/export/colab-llama-3.1-8B-Instruct-JAX.\n"
     ]
    }
   ],
   "source": [
    "flax_checkpoint_path = os.path.join(EXPORT_DIR, MODEL_NAME)\n",
    "trainer.save_checkpoint(state, path=flax_checkpoint_path)"
   ]
  },
  {
   "cell_type": "code",
   "execution_count": 24,
   "metadata": {},
   "outputs": [
    {
     "name": "stdout",
     "output_type": "stream",
     "text": [
      "Loading the checkpoint in a Llama model.\n"
     ]
    },
    {
     "data": {
      "application/vnd.jupyter.widget-view+json": {
       "model_id": "ecda0cd2bd88416aa076fcb29d7ce5aa",
       "version_major": 2,
       "version_minor": 0
      },
      "text/plain": [
       "Loading checkpoint shards:   0%|          | 0/33 [00:00<?, ?it/s]"
      ]
     },
     "metadata": {},
     "output_type": "display_data"
    },
    {
     "name": "stdout",
     "output_type": "stream",
     "text": [
      "Saving in the Transformers format.\n"
     ]
    },
    {
     "data": {
      "application/vnd.jupyter.widget-view+json": {
       "model_id": "57913ffb42484a958ee1895c26682d4c",
       "version_major": 2,
       "version_minor": 0
      },
      "text/plain": [
       "Fetching 7 files:   0%|          | 0/7 [00:00<?, ?it/s]"
      ]
     },
     "metadata": {},
     "output_type": "display_data"
    },
    {
     "name": "stdout",
     "output_type": "stream",
     "text": [
      "Copied config.json to /mnt/persistent-disk/hf_export\n",
      "Copied .gitattributes to /mnt/persistent-disk/hf_export\n",
      "Copied tokenizer.json to /mnt/persistent-disk/hf_export\n",
      "Copied README.md to /mnt/persistent-disk/hf_export\n",
      "Copied generation_config.json to /mnt/persistent-disk/hf_export\n",
      "Copied tokenizer_config.json to /mnt/persistent-disk/hf_export\n",
      "Copied special_tokens_map.json to /mnt/persistent-disk/hf_export\n",
      "All tokenizer files saved to /mnt/persistent-disk/hf_export\n"
     ]
    }
   ],
   "source": [
    "convert_lib.save_hf_compatible_checkpoint(\n",
    "    f'flax_params::{flax_checkpoint_path}', HF_EXPORT_DIR, model_configurator)\n",
    "\n",
    "# Download and save the tokenizer\n",
    "tokenizer_repo = f\"felafax/tokenizer-llama-3.1-8B-Instruct-JAX\"\n",
    "tokenizer_dir = snapshot_download(repo_id=tokenizer_repo)\n",
    "\n",
    "# Move all files from tokenizer_dir to HF_EXPORT_DIR\n",
    "for item in os.listdir(tokenizer_dir):\n",
    "    s = os.path.join(tokenizer_dir, item)\n",
    "    d = os.path.join(HF_EXPORT_DIR, item)\n",
    "    if os.path.isfile(s):\n",
    "        shutil.copy2(s, d)\n",
    "        print(f\"Copied {item} to {HF_EXPORT_DIR}\")\n",
    "    elif os.path.isdir(s):\n",
    "        shutil.copytree(s, d, dirs_exist_ok=True)\n",
    "        print(f\"Copied directory {item} to {HF_EXPORT_DIR}\")\n",
    "print(f\"All tokenizer files saved to {HF_EXPORT_DIR}\")"
   ]
  },
  {
   "cell_type": "code",
   "execution_count": 25,
   "metadata": {},
   "outputs": [
    {
     "name": "stdout",
     "output_type": "stream",
     "text": [
      "Starting to copy directory /mnt/persistent-disk/hf_export to /home/felafax-storage/checkpoints/colab-llama-3.1-8B-Instruct-JAX/20240905_002200/\n",
      "Checkpoint copied to /home/felafax-storage/checkpoints/colab-llama-3.1-8B-Instruct-JAX/20240905_002200/\n"
     ]
    }
   ],
   "source": [
    "checkpoint_lib.copy_directory(HF_EXPORT_DIR, GCS_DIR)\n",
    "print(f\"Checkpoint copied to {GCS_DIR}\")"
   ]
  },
  {
   "cell_type": "code",
   "execution_count": null,
   "metadata": {},
   "outputs": [],
   "source": [
    "# HUGGINGFACE_TOKEN = input(\"INPUT: Please provide your HUGGINGFACE_TOKEN: \")\n",
    "# HUGGINGFACE_USERNAME = input(\n",
    "#     \"INPUT: Please provide your HUGGINGFACE_USERNAME: \")\n",
    "# HUGGINGFACE_REPO_NAME = input(\n",
    "#     \"INPUT: Please provide your HUGGINGFACE_REPO_NAME: \")\n",
    "# convert_lib.upload_checkpoint_to_hf(\n",
    "#     HF_EXPORT_DIR, f\"{HUGGINGFACE_USERNAME}/{HUGGINGFACE_REPO_NAME}\",\n",
    "#     HUGGINGFACE_TOKEN)"
   ]
  }
 ],
 "metadata": {
  "kernelspec": {
   "display_name": "Python 3 (ipykernel)",
   "language": "python",
   "name": "python3"
  },
  "language_info": {
   "codemirror_mode": {
    "name": "ipython",
    "version": 3
   },
   "file_extension": ".py",
   "mimetype": "text/x-python",
   "name": "python",
   "nbconvert_exporter": "python",
   "pygments_lexer": "ipython3",
   "version": "3.10.14"
  }
 },
 "nbformat": 4,
 "nbformat_minor": 4
}
